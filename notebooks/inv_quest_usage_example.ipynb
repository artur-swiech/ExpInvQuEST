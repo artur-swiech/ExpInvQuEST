{
 "cells": [
  {
   "cell_type": "code",
   "execution_count": 1,
   "metadata": {},
   "outputs": [],
   "source": [
    "import numpy as np\n",
    "from matplotlib import pyplot as plt\n",
    "\n",
    "from ExpInvQuEST import QuEST\n",
    "\n",
    "%matplotlib notebook"
   ]
  },
  {
   "cell_type": "markdown",
   "metadata": {},
   "source": [
    "## Set up true eigenvalues, following the example in Ledoit-Wolf"
   ]
  },
  {
   "cell_type": "code",
   "execution_count": 2,
   "metadata": {},
   "outputs": [],
   "source": [
    "p = 200\n",
    "n = 500\n",
    "r = p/n\n",
    "z = np.linspace(0.0, 1.0, p)\n",
    "z1 = z[z<=0.5]\n",
    "exponent = 3\n",
    "tau1 = 0.5 * (1.0 - (1.0 - (2.0 * z1) ** exponent) ** (1.0/exponent))\n",
    "eigvals = 1.0 + 9.0 * np.concatenate([tau1, 1.0-tau1[::-1]])\n",
    "\n",
    "tau = 1\n",
    "gamma = np.sqrt((1/np.sinh(1/tau))+1)\n",
    "\n",
    "true_eigvals = eigvals\n",
    "true_eigvals.sort()"
   ]
  },
  {
   "cell_type": "markdown",
   "metadata": {},
   "source": [
    "## Generate sample of noisy empirical eigenvalues"
   ]
  },
  {
   "cell_type": "code",
   "execution_count": 3,
   "metadata": {},
   "outputs": [],
   "source": [
    "B = np.array([[np.exp(-np.abs(i-j)/(tau))\n",
    "               for i in range(n)]\n",
    "              for j in range(n)])\n",
    "\n",
    "C = np.diag(np.sqrt(true_eigvals))\n",
    "\n",
    "X = np.random.normal(size=(n, p))\n",
    "A = 1.0/n * C.dot(X.T).dot(B).dot(X).dot(C)\n",
    "empirical_eigvals = np.linalg.eigvalsh(A)\n",
    "empirical_eigvals.sort()"
   ]
  },
  {
   "cell_type": "markdown",
   "metadata": {},
   "source": [
    "## Determine outer edges of the support using empirical eigenvalues as a naive estimate"
   ]
  },
  {
   "cell_type": "code",
   "execution_count": 4,
   "metadata": {},
   "outputs": [
    {
     "name": "stdout",
     "output_type": "stream",
     "text": [
      "0.07281309539389998 33.18648710935757\n"
     ]
    }
   ],
   "source": [
    "min_k, max_k = QuEST.edge(empirical_eigvals, r, gamma)\n",
    "k = np.linspace(min_k, max_k, 500)\n",
    "print(min_k, max_k)"
   ]
  },
  {
   "cell_type": "markdown",
   "metadata": {},
   "source": [
    "## Calculate and plot QuEST function and it's random-directional derivative w.r.t. input eigenvalues"
   ]
  },
  {
   "cell_type": "code",
   "execution_count": 5,
   "metadata": {
    "scrolled": false
   },
   "outputs": [
    {
     "data": {
      "text/plain": [
       "[<matplotlib.lines.Line2D at 0x7fca7d752fd0>]"
      ]
     },
     "execution_count": 5,
     "metadata": {},
     "output_type": "execute_result"
    },
    {
     "data": {
      "image/png": "[encoded data removed]",
      "text/plain": [
       "<Figure size 432x288 with 1 Axes>"
      ]
     },
     "metadata": {
      "needs_background": "light"
     },
     "output_type": "display_data"
    },
    {
     "data": {
      "image/png": "[encoded data removed]",
      "text/plain": [
       "<Figure size 432x288 with 1 Axes>"
      ]
     },
     "metadata": {
      "needs_background": "light"
     },
     "output_type": "display_data"
    }
   ],
   "source": [
    "eigs = true_eigvals\n",
    "q = QuEST.QuEST(eigs, r, gamma, k)\n",
    "f,dfdl = q.Q()\n",
    "\n",
    "deigs = np.random.uniform(low=-0.01, high=0.01, size=len(eigs))\n",
    "q = QuEST.QuEST(eigs + deigs, r, gamma, k)\n",
    "f2,_ = q.Q()\n",
    "\n",
    "plt.figure()\n",
    "plt.plot(f)\n",
    "plt.plot(f2)\n",
    "plt.figure()\n",
    "plt.plot(f2 - f)\n",
    "plt.plot(np.dot(dfdl,deigs))"
   ]
  },
  {
   "cell_type": "markdown",
   "metadata": {},
   "source": [
    "## Invert the QuEST function using basinhopping"
   ]
  },
  {
   "cell_type": "code",
   "execution_count": 6,
   "metadata": {
    "scrolled": true
   },
   "outputs": [
    {
     "name": "stdout",
     "output_type": "stream",
     "text": [
      "warning: basinhopping: local minimization failure\n",
      "basinhopping step 0: f 17909.6\n",
      "basinhopping step 1: f 2.27157 trial_f 2.27157 accepted 1  lowest_f 2.27157\n",
      "found new global minimum on step 1 with function value 2.27157\n",
      "warning: basinhopping: local minimization failure\n",
      "basinhopping step 2: f 2.27157 trial_f 5.33556e+19 accepted 0  lowest_f 2.27157\n",
      "warning: basinhopping: local minimization failure\n",
      "basinhopping step 3: f 2.27157 trial_f 1.15711e+18 accepted 0  lowest_f 2.27157\n",
      "warning: basinhopping: local minimization failure\n",
      "basinhopping step 4: f 2.27157 trial_f 1.69894e+22 accepted 0  lowest_f 2.27157\n",
      "warning: basinhopping: local minimization failure\n",
      "basinhopping step 5: f 2.27157 trial_f 4.52419e+20 accepted 0  lowest_f 2.27157\n"
     ]
    }
   ],
   "source": [
    "inv_quest = QuEST.inverse_quest(empirical_eigvals, r, gamma)"
   ]
  },
  {
   "cell_type": "code",
   "execution_count": 7,
   "metadata": {},
   "outputs": [
    {
     "data": {
      "text/plain": [
       "                        fun: 2.2715735358792286\n",
       " lowest_optimization_result:      fun: 2.2715735358792286\n",
       "     jac: array([-1.60242138e-01, -3.09223222e-01, -9.80258438e+00, -3.13939589e-01,\n",
       "       -3.20730649e-01, -4.37330381e-02, -3.25615333e-01, -3.09126111e-01,\n",
       "       -4.29267940e-01, -1.81023233e-02, -3.11890049e-01, -2.16176919e-02,\n",
       "       -3.09849954e-01, -2.47600760e-02, -2.23645680e-02, -5.45536868e-03,\n",
       "       -3.13622107e-01, -2.71463074e-02, -2.51285365e-02, -2.79990993e-03,\n",
       "       -1.86804661e-02, -2.66328382e-02, -3.76719099e-02, -3.13598580e-01,\n",
       "       -2.38080562e-02, -1.67280222e-02, -1.75649875e-02, -2.65380789e-02,\n",
       "       -1.72837800e-02, -9.33585707e-01, -1.76000988e-02, -3.94137279e-03,\n",
       "       -3.18918970e-01, -3.17799125e-01, -1.74818206e-02, -1.73932891e-02,\n",
       "       -1.83283656e-02, -2.76909641e-02, -3.35841203e-02, -1.83653289e-02,\n",
       "       -2.62600429e-02, -6.12745554e-03, -2.76805702e-02, -2.58167451e-02,\n",
       "       -2.40745275e-02,  3.66841666e-02, -1.83579069e-02, -1.92426919e-02,\n",
       "       -2.01337964e-02, -2.03852166e-02, -2.43631613e-02, -2.04350708e-02,\n",
       "       -1.91910132e-02, -1.85216234e-02, -1.87052377e-02, -1.75964368e-02,\n",
       "       -4.64012618e-03, -1.87311060e-02, -1.66148540e-02, -2.45804626e-02,\n",
       "       -1.92479823e-02, -1.69546566e-02, -2.89714052e-02, -1.91738279e-02,\n",
       "       -1.30049622e-02, -1.14805486e-02, -1.86137478e-02, -3.19510941e-02,\n",
       "       -1.89505076e-02, -1.76346028e-02, -1.78466558e-02, -1.00249324e-02,\n",
       "       -1.88600375e-02, -7.67719211e-03, -1.85393025e-02, -1.76381814e-02,\n",
       "       -1.36476846e-02, -6.32998736e-03, -1.87390109e-02, -1.69614901e-03,\n",
       "        2.78027580e-04,  6.65481185e-03, -7.42997353e-03,  3.08473105e-02,\n",
       "       -1.40350881e-02, -1.10755039e-02, -4.93971811e-03, -4.14805712e-03,\n",
       "       -4.57848904e-03,  6.42867785e-02, -4.02294787e-03, -6.75584651e-03,\n",
       "       -3.44912341e-03,  6.19575531e-02,  4.92146111e-02,  4.25669506e-02,\n",
       "        2.63934642e-02,  6.48725226e-02,  3.75950512e-02,  2.98524877e-02,\n",
       "        1.95098337e-02,  2.25515580e-02,  2.62237721e-02,  3.18984357e-02,\n",
       "        1.72277539e-02,  1.98743355e-02,  1.79626080e-02,  1.50173782e-02,\n",
       "        1.50830447e-02,  1.76191379e-02,  1.67381439e-02,  1.49241179e-02,\n",
       "        1.44426059e-02,  1.45420803e-02,  1.45482947e-02,  1.45708728e-02,\n",
       "        1.48059749e-02,  1.44372222e-02,  1.53553200e-02,  1.44942509e-02,\n",
       "        1.48508824e-02,  1.64748720e-02,  1.53181616e-02,  1.70212037e-02,\n",
       "        1.65727602e-02,  1.68698628e-02,  1.71908068e-02,  1.72129770e-02,\n",
       "        1.80654201e-02,  1.70384582e-02,  1.67754115e-02,  1.85531948e-02,\n",
       "        1.82920085e-02,  1.80214084e-02,  1.90438827e-02,  1.89244366e-02,\n",
       "        1.92751761e-02,  1.91049771e-02,  1.91224816e-02,  1.92541486e-02,\n",
       "        1.92301528e-02,  1.92214726e-02,  1.92062099e-02,  1.92622051e-02,\n",
       "        1.93828729e-02,  1.95197140e-02,  1.94896459e-02,  1.96219932e-02,\n",
       "        1.95481261e-02,  1.96222339e-02,  1.96063583e-02,  1.96183979e-02,\n",
       "        1.96259234e-02,  1.96242483e-02,  1.95972336e-02,  1.94792070e-02,\n",
       "        1.94838860e-02,  1.93809238e-02,  1.94092060e-02,  1.94433320e-02,\n",
       "        1.94076844e-02,  1.94456498e-02,  1.93962108e-02,  1.94358458e-02,\n",
       "        1.93674155e-02,  1.94492205e-02,  1.93548432e-02,  1.92950458e-02,\n",
       "        1.93140648e-02,  1.93562235e-02,  1.89051752e-02,  1.88207279e-02,\n",
       "        1.87804139e-02,  1.86240591e-02,  1.86530698e-02,  1.85621308e-02,\n",
       "        1.84071947e-02,  1.84304604e-02,  1.81498988e-02,  1.83913389e-02,\n",
       "        1.80850544e-02,  2.02505092e-02,  1.79222768e-02,  1.88050693e-02,\n",
       "        2.17112957e-02,  2.21106492e-02,  2.37381635e-02,  2.50040548e-02,\n",
       "        2.63074406e-02,  2.63036623e-02,  2.78444742e-02,  2.80182583e-02,\n",
       "        2.75612357e-02,  2.78632425e-02,  2.77627448e-02,  2.63129187e-02,\n",
       "        8.03598046e-02,  5.35148455e-02,  1.41730767e-02,  1.14437263e-02])\n",
       " message: 'Optimization terminated successfully.'\n",
       "    nfev: 136\n",
       "     nit: 37\n",
       "    njev: 37\n",
       "  status: 0\n",
       " success: True\n",
       "       x: array([ 0.72585328,  0.66184046,  0.2949483 ,  0.66072882,  0.65917786,\n",
       "        1.01038717,  0.65809679,  0.66186366,  0.2999314 ,  1.37352069,\n",
       "        0.6612083 ,  1.29474604,  0.66169105,  1.23631545,  1.27997702,\n",
       "        2.04144521,  0.66080274,  1.19760048,  1.2300504 ,  2.26735231,\n",
       "        1.35936462,  1.20557474,  1.0661885 ,  0.66080822,  1.25303534,\n",
       "        1.40948162,  1.38717454,  1.20706673,  1.39452284,  0.60109925,\n",
       "        1.38626704,  2.18294058,  0.65958608,  0.65984041,  1.38933284,\n",
       "        1.39164414,  1.36792214,  1.18933951,  1.11101567,  1.36701454,\n",
       "        1.21148188,  1.97101733,  1.1894953 ,  1.21863947,  1.24827567,\n",
       "        3.34302847,  1.3671966 ,  1.34609378,  1.32598305,  1.32050074,\n",
       "        1.24319091,  1.3194232 ,  1.34729412,  1.36320099,  1.35876992,\n",
       "        1.38636159,  2.12187645,  1.35814984,  1.41260186,  1.23941024,\n",
       "        1.34597111,  1.40330959,  1.17067442,  1.34769412,  1.52880494,\n",
       "        1.59143798,  1.36097124,  1.13090514,  1.35293167,  1.38537736,\n",
       "        1.37995543,  1.66347163,  1.35507456,  1.82247948,  1.36277206,\n",
       "        1.38528521,  1.5052933 ,  1.9499186 ,  1.35796057,  2.3350326 ,\n",
       "        2.43395432,  2.66221563,  1.84373532,  3.22364733,  1.49180847,\n",
       "        1.61007136,  2.09335222,  2.16568127,  2.12757405,  4.02532583,\n",
       "        2.17620755,  1.90678464,  2.22147681,  5.32094215,  5.88054012,\n",
       "        6.18043673,  7.09364592,  4.04729982,  6.42383892,  6.86120628,\n",
       "        7.69522656,  7.3973925 ,  7.10589528,  6.73639407,  7.98428725,\n",
       "        7.65554814,  7.8817115 ,  8.42335163,  8.40385441,  7.92823079,\n",
       "        8.06000703,  8.45276166,  8.96310209,  8.61146998,  9.03256913,\n",
       "        9.0445885 ,  9.14377464,  8.95861113,  9.30004688,  9.00049354,\n",
       "        9.15936109,  9.51475031,  9.29116537,  9.59750748,  9.5303232 ,\n",
       "        9.57553499,  9.62138109,  9.62444684,  9.7342033 ,  9.59997133,\n",
       "        9.56147535,  9.79118524,  9.76112432,  9.728877  ,  9.84516653,\n",
       "        9.83230417,  9.86960363,  9.8516804 ,  9.85353879,  9.86740668,\n",
       "        9.86489369,  9.86398309,  9.8623799 ,  9.868249  ,  9.88078108,\n",
       "        9.89480777,  9.89174216,  9.90516785,  9.89769615,  9.90519211,\n",
       "        9.90359087,  9.90480543,  9.90556389,  9.90539511,  9.90266942,\n",
       "        9.89067571,  9.89115386,  9.88057988,  9.88349536,  9.88700215,\n",
       "        9.88333871,  9.88723988,  9.88215678,  9.88623389,  9.87918439,\n",
       "        9.88760603,  9.87788387,  9.87167518,  9.87365406,  9.87802674,\n",
       "        9.83021392,  9.82099573,  9.81656352,  9.79917422,  9.80242512,\n",
       "        9.79219641,  9.77450409,  9.77718274,  9.74433654,  9.77267402,\n",
       "        9.7365689 ,  9.96668877,  9.71675823,  9.81927662, 10.09785667,\n",
       "       10.13135681, 10.25965054, 10.35192635, 10.44146655, 10.44121405,\n",
       "       10.54119595, 10.55212293, 10.52324294, 10.54237924, 10.53603406,\n",
       "       10.4418326 , 13.06083895, 11.80465837, 22.42643618, 23.44091484])\n",
       "                    message: ['requested number of basinhopping iterations completed successfully']\n",
       "      minimization_failures: 5\n",
       "                       nfev: 141\n",
       "                        nit: 5\n",
       "                       njev: 42\n",
       "                          x: array([ 0.72585328,  0.66184046,  0.2949483 ,  0.66072882,  0.65917786,\n",
       "        1.01038717,  0.65809679,  0.66186366,  0.2999314 ,  1.37352069,\n",
       "        0.6612083 ,  1.29474604,  0.66169105,  1.23631545,  1.27997702,\n",
       "        2.04144521,  0.66080274,  1.19760048,  1.2300504 ,  2.26735231,\n",
       "        1.35936462,  1.20557474,  1.0661885 ,  0.66080822,  1.25303534,\n",
       "        1.40948162,  1.38717454,  1.20706673,  1.39452284,  0.60109925,\n",
       "        1.38626704,  2.18294058,  0.65958608,  0.65984041,  1.38933284,\n",
       "        1.39164414,  1.36792214,  1.18933951,  1.11101567,  1.36701454,\n",
       "        1.21148188,  1.97101733,  1.1894953 ,  1.21863947,  1.24827567,\n",
       "        3.34302847,  1.3671966 ,  1.34609378,  1.32598305,  1.32050074,\n",
       "        1.24319091,  1.3194232 ,  1.34729412,  1.36320099,  1.35876992,\n",
       "        1.38636159,  2.12187645,  1.35814984,  1.41260186,  1.23941024,\n",
       "        1.34597111,  1.40330959,  1.17067442,  1.34769412,  1.52880494,\n",
       "        1.59143798,  1.36097124,  1.13090514,  1.35293167,  1.38537736,\n",
       "        1.37995543,  1.66347163,  1.35507456,  1.82247948,  1.36277206,\n",
       "        1.38528521,  1.5052933 ,  1.9499186 ,  1.35796057,  2.3350326 ,\n",
       "        2.43395432,  2.66221563,  1.84373532,  3.22364733,  1.49180847,\n",
       "        1.61007136,  2.09335222,  2.16568127,  2.12757405,  4.02532583,\n",
       "        2.17620755,  1.90678464,  2.22147681,  5.32094215,  5.88054012,\n",
       "        6.18043673,  7.09364592,  4.04729982,  6.42383892,  6.86120628,\n",
       "        7.69522656,  7.3973925 ,  7.10589528,  6.73639407,  7.98428725,\n",
       "        7.65554814,  7.8817115 ,  8.42335163,  8.40385441,  7.92823079,\n",
       "        8.06000703,  8.45276166,  8.96310209,  8.61146998,  9.03256913,\n",
       "        9.0445885 ,  9.14377464,  8.95861113,  9.30004688,  9.00049354,\n",
       "        9.15936109,  9.51475031,  9.29116537,  9.59750748,  9.5303232 ,\n",
       "        9.57553499,  9.62138109,  9.62444684,  9.7342033 ,  9.59997133,\n",
       "        9.56147535,  9.79118524,  9.76112432,  9.728877  ,  9.84516653,\n",
       "        9.83230417,  9.86960363,  9.8516804 ,  9.85353879,  9.86740668,\n",
       "        9.86489369,  9.86398309,  9.8623799 ,  9.868249  ,  9.88078108,\n",
       "        9.89480777,  9.89174216,  9.90516785,  9.89769615,  9.90519211,\n",
       "        9.90359087,  9.90480543,  9.90556389,  9.90539511,  9.90266942,\n",
       "        9.89067571,  9.89115386,  9.88057988,  9.88349536,  9.88700215,\n",
       "        9.88333871,  9.88723988,  9.88215678,  9.88623389,  9.87918439,\n",
       "        9.88760603,  9.87788387,  9.87167518,  9.87365406,  9.87802674,\n",
       "        9.83021392,  9.82099573,  9.81656352,  9.79917422,  9.80242512,\n",
       "        9.79219641,  9.77450409,  9.77718274,  9.74433654,  9.77267402,\n",
       "        9.7365689 ,  9.96668877,  9.71675823,  9.81927662, 10.09785667,\n",
       "       10.13135681, 10.25965054, 10.35192635, 10.44146655, 10.44121405,\n",
       "       10.54119595, 10.55212293, 10.52324294, 10.54237924, 10.53603406,\n",
       "       10.4418326 , 13.06083895, 11.80465837, 22.42643618, 23.44091484])"
      ]
     },
     "execution_count": 7,
     "metadata": {},
     "output_type": "execute_result"
    }
   ],
   "source": [
    "inv_quest"
   ]
  },
  {
   "cell_type": "markdown",
   "metadata": {},
   "source": [
    "## Plot the results"
   ]
  },
  {
   "cell_type": "code",
   "execution_count": 8,
   "metadata": {
    "scrolled": false
   },
   "outputs": [
    {
     "data": {
      "text/plain": [
       "<matplotlib.legend.Legend at 0x7fca7db27860>"
      ]
     },
     "execution_count": 8,
     "metadata": {},
     "output_type": "execute_result"
    },
    {
     "data": {
      "image/png": "[encoded data removed]",
      "text/plain": [
       "<Figure size 432x288 with 1 Axes>"
      ]
     },
     "metadata": {
      "needs_background": "light"
     },
     "output_type": "display_data"
    }
   ],
   "source": [
    "fig,ax = plt.subplots()\n",
    "fig.suptitle(\"Inverse QuEST for exponentially decaying autocorrelations\\nN=400, T=1000\")\n",
    "ax.plot(sorted(inv_quest.x), label=\"Inverse QuEST\")\n",
    "ax.plot(true_eigvals, label=\"True eigenvalues\")\n",
    "ax.set_xlabel(\"#Eigenvalue\")\n",
    "ax.set_ylabel(\"Eigenvalue\")\n",
    "ax.grid()\n",
    "ax.legend()"
   ]
  },
  {
   "cell_type": "markdown",
   "metadata": {},
   "source": [
    "## Compare empirical eigenvalues to QuEST calculated using true eigenvalues and the ones estimated using inverse procedure"
   ]
  },
  {
   "cell_type": "code",
   "execution_count": 9,
   "metadata": {},
   "outputs": [
    {
     "data": {
      "text/plain": [
       "[<matplotlib.lines.Line2D at 0x7fca7daa5cf8>]"
      ]
     },
     "execution_count": 9,
     "metadata": {},
     "output_type": "execute_result"
    },
    {
     "data": {
      "image/png": "[encoded data removed]",
      "text/plain": [
       "<Figure size 432x288 with 1 Axes>"
      ]
     },
     "metadata": {
      "needs_background": "light"
     },
     "output_type": "display_data"
    }
   ],
   "source": [
    "fig,ax = plt.subplots()\n",
    "ax.plot(empirical_eigvals[:-1])\n",
    "q = QuEST.QuEST(true_eigvals, r, gamma, k)\n",
    "ax.plot(q.Q()[0])\n",
    "q = QuEST.QuEST(inv_quest.x, r, gamma, k)\n",
    "ax.plot(q.Q()[0])"
   ]
  },
  {
   "cell_type": "markdown",
   "metadata": {},
   "source": [
    "## Compute square distances of empirical eigenvalues to QuEST given true eigenvalues"
   ]
  },
  {
   "cell_type": "code",
   "execution_count": 10,
   "metadata": {
    "scrolled": false
   },
   "outputs": [
    {
     "data": {
      "text/plain": [
       "3.374599741742658"
      ]
     },
     "execution_count": 10,
     "metadata": {},
     "output_type": "execute_result"
    }
   ],
   "source": [
    "((QuEST.QuEST(true_eigvals, r, gamma, k).Q()[0] - empirical_eigvals[:-1])**2).sum()"
   ]
  }
 ],
 "metadata": {
  "kernelspec": {
   "display_name": "Python 3",
   "language": "python",
   "name": "python3"
  },
  "language_info": {
   "codemirror_mode": {
    "name": "ipython",
    "version": 3
   },
   "file_extension": ".py",
   "mimetype": "text/x-python",
   "name": "python",
   "nbconvert_exporter": "python",
   "pygments_lexer": "ipython3",
   "version": "3.6.7"
  }
 },
 "nbformat": 4,
 "nbformat_minor": 2
}
