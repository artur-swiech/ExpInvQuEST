{
 "cells": [
  {
   "cell_type": "code",
   "execution_count": 1,
   "metadata": {},
   "outputs": [],
   "source": [
    "import numpy as np\n",
    "from scipy.linalg import sqrtm\n",
    "from matplotlib import pyplot as plt\n",
    "\n",
    "from ExpInvQuEST import QuEST\n",
    "\n",
    "%matplotlib notebook"
   ]
  },
  {
   "cell_type": "markdown",
   "metadata": {},
   "source": [
    "## Set up true eigenvalues, following the example in Ledoit-Wolf"
   ]
  },
  {
   "cell_type": "code",
   "execution_count": null,
   "metadata": {},
   "outputs": [],
   "source": [
    "p = 200\n",
    "n = 500\n",
    "r = p/n\n",
    "z = np.linspace(0.0, 1.0, p)\n",
    "z1 = z[z<=0.5]\n",
    "exponent = 3\n",
    "tau1 = 0.5 * (1.0 - (1.0 - (2.0 * z1) ** exponent) ** (1.0/exponent))\n",
    "eigvals = 1.0 + 9.0 * np.concatenate([tau1, 1.0-tau1[::-1]])\n",
    "\n",
    "tau = 1\n",
    "gamma = np.sqrt((1/np.sinh(1/tau))+1)\n",
    "\n",
    "true_eigvals = eigvals\n",
    "true_eigvals.sort()"
   ]
  },
  {
   "cell_type": "markdown",
   "metadata": {},
   "source": [
    "## Generate sample of noisy empirical eigenvalues"
   ]
  },
  {
   "cell_type": "code",
   "execution_count": 2,
   "metadata": {},
   "outputs": [],
   "source": [
    "B = np.array([[np.exp(-np.abs(i-j)/(tau))\n",
    "               for i in range(n)]\n",
    "              for j in range(n)])\n",
    "\n",
    "C = np.diag(np.sqrt(true_eigvals))\n",
    "\n",
    "samples = 1\n",
    "\n",
    "X = np.random.normal(size=(n, p))\n",
    "A = 1.0/n * C.dot(X.T).dot(B).dot(X).dot(C)\n",
    "empirical_eigvals = np.linalg.eigvalsh(A)\n",
    "empirical_eigvals.sort()"
   ]
  },
  {
   "cell_type": "markdown",
   "metadata": {},
   "source": [
    "## Determine outer edges of the support using empirical eigenvalues as a naive estimate"
   ]
  },
  {
   "cell_type": "code",
   "execution_count": 3,
   "metadata": {},
   "outputs": [
    {
     "name": "stdout",
     "output_type": "stream",
     "text": [
      "0.07403986048658033 33.41441115357409\n"
     ]
    }
   ],
   "source": [
    "min_k, max_k = QuEST.edge(empirical_eigvals, r, gamma)\n",
    "k = np.linspace(min_k, max_k, 500)\n",
    "print(min_k, max_k)"
   ]
  },
  {
   "cell_type": "markdown",
   "metadata": {},
   "source": [
    "## Calculate and plot QuEST function and it's random-directional derivative w.r.t. input eigenvalues"
   ]
  },
  {
   "cell_type": "code",
   "execution_count": 4,
   "metadata": {
    "scrolled": false
   },
   "outputs": [],
   "source": [
    "n = len(true_eigvals)\n",
    "eigs = true_eigvals\n",
    "q = QuEST.QuEST(eigs, r, gamma, k)\n",
    "f,dfdl = q.Q()\n",
    "\n",
    "deigs = np.random.uniform(low=-0.01, high=0.01, size=n)\n",
    "q = QuEST.QuEST(eigs + deigs, r, gamma, k)\n",
    "f2,_ = q.Q()\n",
    "\n",
    "plt.figure()\n",
    "plt.plot(f)\n",
    "plt.plot(f2)\n",
    "plt.figure()\n",
    "plt.plot(f2 - f)\n",
    "plt.plot(np.dot(dfdl,deigs))"
   ]
  },
  {
   "cell_type": "markdown",
   "metadata": {},
   "source": [
    "## Invert the QuEST function using basinhopping"
   ]
  },
  {
   "cell_type": "code",
   "execution_count": 6,
   "metadata": {
    "scrolled": true
   },
   "outputs": [
    {
     "name": "stdout",
     "output_type": "stream",
     "text": [
      "warning: basinhopping: local minimization failure\n",
      "basinhopping step 0: f 14799.5\n",
      "basinhopping step 1: f 11.0249 trial_f 11.0249 accepted 1  lowest_f 11.0249\n",
      "found new global minimum on step 1 with function value 11.0249\n",
      "warning: basinhopping: local minimization failure\n",
      "basinhopping step 2: f 11.0249 trial_f 4.37357e+21 accepted 0  lowest_f 11.0249\n",
      "warning: basinhopping: local minimization failure\n",
      "basinhopping step 3: f 11.0249 trial_f 1.19076e+22 accepted 0  lowest_f 11.0249\n",
      "warning: basinhopping: local minimization failure\n",
      "basinhopping step 4: f 11.0249 trial_f 8.68757e+22 accepted 0  lowest_f 11.0249\n",
      "warning: basinhopping: local minimization failure\n",
      "basinhopping step 5: f 11.0249 trial_f 2.438e+22 accepted 0  lowest_f 11.0249\n"
     ]
    }
   ],
   "source": [
    "inv_quest = QuEST.inverse_quest(empirical_eigvals, r, gamma)"
   ]
  },
  {
   "cell_type": "code",
   "execution_count": 8,
   "metadata": {},
   "outputs": [
    {
     "data": {
      "text/plain": [
       "                        fun: 11.02489066937746\n",
       " lowest_optimization_result:      fun: 11.02489066937746\n",
       "     jac: array([-2.42603637e+01, -6.14258143e-02, -3.02171539e-01, -1.25647487e+02,\n",
       "       -2.52319662e+01, -2.51577880e+01, -2.50880071e+01, -4.33484676e-02,\n",
       "       -2.42200280e+01, -2.50737258e+01,  2.21644957e-01, -4.47284886e-02,\n",
       "       -5.92488606e-02, -1.71944240e-01, -2.50395066e+01, -2.53321400e+01,\n",
       "       -2.51991116e-01, -2.67535082e-01, -4.24971799e-02, -6.84212781e-02,\n",
       "       -7.86348924e-02, -9.43504768e-02,  7.79376062e-01, -5.04102857e-02,\n",
       "       -2.37377390e-01, -1.25432891e+02, -2.54343991e-01, -2.74673211e-01,\n",
       "       -5.34152957e-02, -1.86701479e-01, -5.03546539e-02, -2.40820273e-01,\n",
       "       -2.76190223e-01, -2.65790842e-01,  3.56783967e+00, -2.65678697e-01,\n",
       "        2.28102848e-02, -2.67494772e-01, -1.29405756e-01,  5.35088486e-01,\n",
       "       -4.41125656e-02, -9.16509913e+01, -2.60861283e-01, -2.75168259e-01,\n",
       "       -2.74950069e-01, -2.69702867e-01,  6.56241932e-01, -1.55816725e-01,\n",
       "       -2.58686402e-01, -2.73994178e-01, -1.49572976e-01, -1.86811746e-02,\n",
       "       -2.64588717e-01,  1.99932776e+00, -2.59925135e-01, -2.56882936e-01,\n",
       "        7.89948525e-01, -2.35005309e-01, -2.72748617e-01,  1.17084619e-01,\n",
       "        7.69670244e-01, -2.57179089e-01, -2.65728828e-01, -2.10453213e-01,\n",
       "        7.86714820e-02, -2.58887993e-01, -2.03330803e-01, -9.55715436e-02,\n",
       "       -1.94361106e-01, -2.72985720e-01, -2.73545337e-01, -2.51339820e-01,\n",
       "       -1.01836745e-01, -1.67694983e-01,  6.00609383e-01,  7.20038361e-01,\n",
       "       -1.36025811e-01, -2.71879679e-01,  5.55942118e-01, -8.48756819e-02,\n",
       "        1.06169689e+00,  1.06089910e+00, -7.67553729e-02, -5.31215434e-02,\n",
       "       -1.38320133e-01, -2.70885380e-01, -3.74941998e-02, -1.21204512e-01,\n",
       "       -5.15365639e-02, -1.15039528e-01, -4.47447431e-02, -3.61914843e-02,\n",
       "       -9.44919591e-02, -3.63500950e-02, -1.13383633e-01, -3.22894468e-01,\n",
       "       -3.37888810e-01, -7.33876719e-02, -3.07132521e-01, -3.26188888e-01,\n",
       "       -3.71596452e-01, -3.30554115e-01, -3.24725292e-01, -3.79500254e-01,\n",
       "       -3.52687211e-01, -3.74129089e-01, -3.81717588e-01, -3.82005652e-01,\n",
       "       -3.76690937e-01, -3.81413220e-01, -3.82627578e-01, -3.82549725e-01,\n",
       "       -3.82664447e-01, -3.82599630e-01, -3.82407851e-01, -3.82410121e-01,\n",
       "       -3.81766266e-01, -3.82651252e-01, -3.81758766e-01, -3.81216021e-01,\n",
       "       -3.81973476e-01, -3.81940384e-01, -3.82070296e-01, -3.82003868e-01,\n",
       "       -3.81336498e-01, -3.80045102e-01, -3.80707094e-01, -3.80759289e-01,\n",
       "       -3.79543487e-01, -3.80439981e-01, -3.79099054e-01, -3.79534696e-01,\n",
       "       -3.78040574e-01, -3.77264423e-01, -3.78718857e-01, -3.78808339e-01,\n",
       "       -3.76151447e-01, -3.76279116e-01, -3.76053047e-01, -3.77508941e-01,\n",
       "       -3.77087030e-01, -3.76684803e-01, -3.75423387e-01, -3.75653858e-01,\n",
       "       -3.73543805e-01, -3.74313778e-01, -3.73063111e-01, -3.75313036e-01,\n",
       "       -3.72435966e-01, -3.73182881e-01, -3.72694489e-01, -3.71981924e-01,\n",
       "       -3.72766277e-01, -3.72313492e-01, -3.72408309e-01, -3.69512281e-01,\n",
       "       -3.69809153e-01, -3.70567930e-01, -3.68067051e-01, -3.69050144e-01,\n",
       "       -3.69373778e-01, -3.66659676e-01, -3.66877044e-01, -3.66310764e-01,\n",
       "       -3.66882063e-01, -3.64954159e-01, -3.64118625e-01, -3.63174290e-01,\n",
       "       -3.62172242e-01, -3.63892216e-01, -3.62737309e-01, -3.63238139e-01,\n",
       "       -3.62496153e-01, -3.62208206e-01, -3.58085276e-01, -3.59779219e-01,\n",
       "       -3.59132221e-01, -3.58101136e-01, -3.58595948e-01, -3.56538308e-01,\n",
       "       -3.55917264e-01, -3.53785005e-01, -3.52339611e-01, -3.51699401e-01,\n",
       "       -3.37985054e-01, -3.26167017e-01, -3.26814568e-01, -3.19405438e-01,\n",
       "       -3.19150735e-01, -3.13332201e-01, -3.19331732e-01, -3.06658462e-01,\n",
       "       -3.05720100e-01, -3.09080659e-01, -2.85755752e-01, -2.77742793e-01,\n",
       "       -2.69120746e-01, -1.89091548e-01, -2.07764609e-01, -1.17079068e-01])\n",
       " message: 'Optimization terminated successfully.'\n",
       "    nfev: 238\n",
       "     nit: 53\n",
       "    njev: 51\n",
       "  status: 0\n",
       " success: True\n",
       "       x: array([ 0.24365163,  2.45936753,  5.81375165,  0.21172933,  0.24089878,\n",
       "        0.24102995,  0.24115819,  2.69552916,  0.24497383,  0.24118506,\n",
       "        0.69311557,  3.29925452,  3.52550454,  1.76692072,  0.24125038,\n",
       "        0.24072907,  1.34010499,  0.98181035,  0.75285092,  2.3940075 ,\n",
       "        0.76667569,  0.77353012,  0.64053084,  2.58485808,  1.4256399 ,\n",
       "        0.21175995,  0.93319969,  1.03599057,  0.75677689,  0.83183942,\n",
       "        3.39862641,  0.90188898,  1.06439254,  0.97338175,  0.56694336,\n",
       "        1.24383662,  0.73283834,  0.98160422,  0.7912737 ,  0.65803847,\n",
       "        0.75341941,  0.21717835,  0.95361295,  1.13889452,  1.14293006,\n",
       "        0.99388912,  0.64865613,  0.80766173,  1.2961449 ,  1.15829272,\n",
       "        0.80349431,  0.7449241 ,  1.25262816,  0.59480122,  0.95035496,\n",
       "        1.30842939,  0.63988759,  0.89119816,  1.01581605,  0.71114725,\n",
       "        0.64112833,  1.30643768,  1.24342485,  0.85627255,  0.71919911,\n",
       "        0.94688996,  0.84822671,  0.77408787,  0.83901811,  1.1719817 ,\n",
       "        1.16462416,  1.3441713 ,  0.77701138,  1.78816919,  0.65276845,\n",
       "        0.64429324,  0.79509449,  1.00872085,  0.65630676,  2.26358652,\n",
       "        0.62561222,  0.62564879,  2.3247353 ,  2.55033716,  1.93948728,\n",
       "        1.00151521,  2.85318727,  2.03372828,  3.41711778,  4.08681542,\n",
       "        3.29957811,  2.96734846,  3.90232206,  3.01709139,  4.07240238,\n",
       "        6.09185217,  6.32841721,  3.69169889,  5.87639429,  6.14071588,\n",
       "        7.12807971,  6.20796158,  6.11881801,  7.5194529 ,  6.61068272,\n",
       "        7.22890844,  7.730297  ,  7.77315826,  7.3491455 ,  7.6918367 ,\n",
       "        7.93970639,  7.89998919,  7.99247075,  7.92274103,  7.85476553,\n",
       "        7.85536909,  8.25455675,  8.02339201,  8.25566698,  8.32675484,\n",
       "        8.22186692,  8.2273798 ,  8.20495219,  8.21668955,  8.31227481,\n",
       "        8.4450803 ,  8.38233349,  8.37698158,  8.48769776,  8.40871334,\n",
       "        8.52281068,  8.48841445,  8.5989213 ,  8.64961826,  8.5512373 ,\n",
       "        8.54466744,  8.71671159,  8.70930183,  8.72237673,  8.63403776,\n",
       "        8.6607164 ,  8.68528711,  8.75774004,  8.74496799,  8.85561256,\n",
       "        8.8167624 ,  8.87910494,  8.76378871,  8.90895841,  8.87330303,\n",
       "        8.89675668,  8.93005154,  8.89334284,  8.91468958,  8.91025534,\n",
       "        9.03825327,  9.02576787,  8.9932463 ,  9.09728747,  9.05743702,\n",
       "        9.04403435,  9.15227702,  9.14393124,  9.1655669 ,  9.14373794,\n",
       "        9.21606151,  9.24629403,  9.27973282,  9.31442589,  9.25437981,\n",
       "        9.29495855,  9.2774953 ,  9.30329676,  9.31319415,  9.44860523,\n",
       "        9.39431245,  9.41525616,  9.44810485,  9.43242   ,  9.49673387,\n",
       "        9.51569341,  9.57932763,  9.62126636,  9.63955414,  9.99712327,\n",
       "       10.26660808, 10.25255202, 10.40919921, 10.41443023, 10.53141363,\n",
       "       10.41071396, 10.66015803, 10.67783513, 10.6140571 , 11.03286008,\n",
       "       11.16568467, 11.30346264, 12.39945552, 12.16803252, 13.17879239])\n",
       "                    message: ['requested number of basinhopping iterations completed successfully']\n",
       "      minimization_failures: 5\n",
       "                       nfev: 243\n",
       "                        nit: 5\n",
       "                       njev: 56\n",
       "                          x: array([ 0.24365163,  2.45936753,  5.81375165,  0.21172933,  0.24089878,\n",
       "        0.24102995,  0.24115819,  2.69552916,  0.24497383,  0.24118506,\n",
       "        0.69311557,  3.29925452,  3.52550454,  1.76692072,  0.24125038,\n",
       "        0.24072907,  1.34010499,  0.98181035,  0.75285092,  2.3940075 ,\n",
       "        0.76667569,  0.77353012,  0.64053084,  2.58485808,  1.4256399 ,\n",
       "        0.21175995,  0.93319969,  1.03599057,  0.75677689,  0.83183942,\n",
       "        3.39862641,  0.90188898,  1.06439254,  0.97338175,  0.56694336,\n",
       "        1.24383662,  0.73283834,  0.98160422,  0.7912737 ,  0.65803847,\n",
       "        0.75341941,  0.21717835,  0.95361295,  1.13889452,  1.14293006,\n",
       "        0.99388912,  0.64865613,  0.80766173,  1.2961449 ,  1.15829272,\n",
       "        0.80349431,  0.7449241 ,  1.25262816,  0.59480122,  0.95035496,\n",
       "        1.30842939,  0.63988759,  0.89119816,  1.01581605,  0.71114725,\n",
       "        0.64112833,  1.30643768,  1.24342485,  0.85627255,  0.71919911,\n",
       "        0.94688996,  0.84822671,  0.77408787,  0.83901811,  1.1719817 ,\n",
       "        1.16462416,  1.3441713 ,  0.77701138,  1.78816919,  0.65276845,\n",
       "        0.64429324,  0.79509449,  1.00872085,  0.65630676,  2.26358652,\n",
       "        0.62561222,  0.62564879,  2.3247353 ,  2.55033716,  1.93948728,\n",
       "        1.00151521,  2.85318727,  2.03372828,  3.41711778,  4.08681542,\n",
       "        3.29957811,  2.96734846,  3.90232206,  3.01709139,  4.07240238,\n",
       "        6.09185217,  6.32841721,  3.69169889,  5.87639429,  6.14071588,\n",
       "        7.12807971,  6.20796158,  6.11881801,  7.5194529 ,  6.61068272,\n",
       "        7.22890844,  7.730297  ,  7.77315826,  7.3491455 ,  7.6918367 ,\n",
       "        7.93970639,  7.89998919,  7.99247075,  7.92274103,  7.85476553,\n",
       "        7.85536909,  8.25455675,  8.02339201,  8.25566698,  8.32675484,\n",
       "        8.22186692,  8.2273798 ,  8.20495219,  8.21668955,  8.31227481,\n",
       "        8.4450803 ,  8.38233349,  8.37698158,  8.48769776,  8.40871334,\n",
       "        8.52281068,  8.48841445,  8.5989213 ,  8.64961826,  8.5512373 ,\n",
       "        8.54466744,  8.71671159,  8.70930183,  8.72237673,  8.63403776,\n",
       "        8.6607164 ,  8.68528711,  8.75774004,  8.74496799,  8.85561256,\n",
       "        8.8167624 ,  8.87910494,  8.76378871,  8.90895841,  8.87330303,\n",
       "        8.89675668,  8.93005154,  8.89334284,  8.91468958,  8.91025534,\n",
       "        9.03825327,  9.02576787,  8.9932463 ,  9.09728747,  9.05743702,\n",
       "        9.04403435,  9.15227702,  9.14393124,  9.1655669 ,  9.14373794,\n",
       "        9.21606151,  9.24629403,  9.27973282,  9.31442589,  9.25437981,\n",
       "        9.29495855,  9.2774953 ,  9.30329676,  9.31319415,  9.44860523,\n",
       "        9.39431245,  9.41525616,  9.44810485,  9.43242   ,  9.49673387,\n",
       "        9.51569341,  9.57932763,  9.62126636,  9.63955414,  9.99712327,\n",
       "       10.26660808, 10.25255202, 10.40919921, 10.41443023, 10.53141363,\n",
       "       10.41071396, 10.66015803, 10.67783513, 10.6140571 , 11.03286008,\n",
       "       11.16568467, 11.30346264, 12.39945552, 12.16803252, 13.17879239])"
      ]
     },
     "execution_count": 8,
     "metadata": {},
     "output_type": "execute_result"
    }
   ],
   "source": [
    "inv_quest"
   ]
  },
  {
   "cell_type": "markdown",
   "metadata": {},
   "source": [
    "## Plot the results"
   ]
  },
  {
   "cell_type": "code",
   "execution_count": 9,
   "metadata": {
    "scrolled": false
   },
   "outputs": [
    {
     "data": {
      "text/plain": [
       "<matplotlib.legend.Legend at 0x7efdbc9e36d8>"
      ]
     },
     "execution_count": 9,
     "metadata": {},
     "output_type": "execute_result"
    },
    {
     "data": {
      "image/png": "[encoded data removed]",
      "text/plain": [
       "<Figure size 432x288 with 1 Axes>"
      ]
     },
     "metadata": {
      "needs_background": "light"
     },
     "output_type": "display_data"
    }
   ],
   "source": [
    "fig,ax = plt.subplots()\n",
    "fig.suptitle(\"Inverse QuEst for exponential decaying autocorrelations\\nN=400, T=1000\")\n",
    "ax.plot(sorted(inv_quest.x), label=\"Inverse QuEst\")\n",
    "ax.plot(true_eigvals, label=\"True eigenvalues\")\n",
    "ax.set_xlabel(\"#Eigenvalue\")\n",
    "ax.set_ylabel(\"Eigenvalue\")\n",
    "ax.grid()\n",
    "ax.legend()"
   ]
  },
  {
   "cell_type": "markdown",
   "metadata": {},
   "source": [
    "## Compare empirical eigenvalues to QuEST calculated using true eigenvalues and the ones estimated using inverse procedure"
   ]
  },
  {
   "cell_type": "code",
   "execution_count": 10,
   "metadata": {},
   "outputs": [
    {
     "data": {
      "text/plain": [
       "[<matplotlib.lines.Line2D at 0x7efdbc967c18>]"
      ]
     },
     "execution_count": 10,
     "metadata": {},
     "output_type": "execute_result"
    },
    {
     "data": {
      "image/png": "[encoded data removed]",
      "text/plain": [
       "<Figure size 432x288 with 1 Axes>"
      ]
     },
     "metadata": {
      "needs_background": "light"
     },
     "output_type": "display_data"
    }
   ],
   "source": [
    "fig,ax = plt.subplots()\n",
    "ax.plot(empirical_eigvals[:-1])\n",
    "q = QuEST.QuEST(true_eigvals, r, gamma, k)\n",
    "ax.plot(q.Q()[0])\n",
    "q = QuEST.QuEST(inv_quest.x, r, gamma, k)\n",
    "ax.plot(q.Q()[0])"
   ]
  },
  {
   "cell_type": "markdown",
   "metadata": {},
   "source": [
    "## Compute square distances of empirical eigenvalues to QuEST given true eigenvalues"
   ]
  },
  {
   "cell_type": "code",
   "execution_count": 11,
   "metadata": {
    "scrolled": false
   },
   "outputs": [
    {
     "data": {
      "text/plain": [
       "4.3236689795059355"
      ]
     },
     "execution_count": 11,
     "metadata": {},
     "output_type": "execute_result"
    }
   ],
   "source": [
    "((QuEST.QuEST(true_eigvals, r, gamma, k).Q()[0] - empirical_eigvals[:-1])**2).sum()"
   ]
  }
 ],
 "metadata": {
  "kernelspec": {
   "display_name": "Python 3",
   "language": "python",
   "name": "python3"
  },
  "language_info": {
   "codemirror_mode": {
    "name": "ipython",
    "version": 3
   },
   "file_extension": ".py",
   "mimetype": "text/x-python",
   "name": "python",
   "nbconvert_exporter": "python",
   "pygments_lexer": "ipython3",
   "version": "3.6.7"
  }
 },
 "nbformat": 4,
 "nbformat_minor": 2
}
